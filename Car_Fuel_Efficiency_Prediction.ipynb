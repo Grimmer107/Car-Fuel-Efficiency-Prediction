{
  "nbformat": 4,
  "nbformat_minor": 0,
  "metadata": {
    "colab": {
      "provenance": []
    },
    "kernelspec": {
      "name": "python3",
      "display_name": "Python 3"
    },
    "language_info": {
      "name": "python"
    }
  },
  "cells": [
    {
      "cell_type": "code",
      "source": [
        "import pandas as pd\n",
        "import sklearn\n",
        "import torch\n",
        "from sklearn.model_selection import train_test_split\n",
        "from torch.nn.functional import one_hot\n",
        "from torch.utils.data import TensorDataset, DataLoader\n",
        "from torch import nn\n",
        "from tqdm import tqdm\n",
        "import matplotlib.pyplot as plt"
      ],
      "metadata": {
        "id": "lGtI6Ci3GwIF"
      },
      "execution_count": 1,
      "outputs": []
    },
    {
      "cell_type": "code",
      "execution_count": 2,
      "metadata": {
        "id": "S8uJTiA3uGTj",
        "colab": {
          "base_uri": "https://localhost:8080/"
        },
        "outputId": "b1146f2f-4f65-4bf0-bc45-18108f5f039b"
      },
      "outputs": [
        {
          "output_type": "stream",
          "name": "stdout",
          "text": [
            "    MPG  Cylinders  Displacement  Horsepower  Weight  Acceleration  \\\n",
            "0  18.0          8         307.0       130.0  3504.0          12.0   \n",
            "1  15.0          8         350.0       165.0  3693.0          11.5   \n",
            "2  18.0          8         318.0       150.0  3436.0          11.0   \n",
            "3  16.0          8         304.0       150.0  3433.0          12.0   \n",
            "4  17.0          8         302.0       140.0  3449.0          10.5   \n",
            "\n",
            "   Model Year  Origin  \n",
            "0          70       1  \n",
            "1          70       1  \n",
            "2          70       1  \n",
            "3          70       1  \n",
            "4          70       1  \n"
          ]
        }
      ],
      "source": [
        "url =  'http://archive.ics.uci.edu/ml/machine-learning-databases/auto-mpg/auto-mpg.data'\n",
        "column_names = ['MPG', 'Cylinders', 'Displacement', 'Horsepower',\n",
        "               'Weight', 'Acceleration', 'Model Year', 'Origin']\n",
        "df = pd.read_csv(url, names=column_names, na_values = \"?\", comment='\\t', sep=\" \", skipinitialspace=True)\n",
        "print(df.head(5))"
      ]
    },
    {
      "cell_type": "code",
      "source": [
        "df = df.dropna()\n",
        "df = df.reset_index(drop=True)\n",
        "df.head(5)"
      ],
      "metadata": {
        "colab": {
          "base_uri": "https://localhost:8080/",
          "height": 206
        },
        "id": "Zz49gxWh39WD",
        "outputId": "ee004a49-9d55-444d-f3a7-5cb4ac0f6f69"
      },
      "execution_count": 3,
      "outputs": [
        {
          "output_type": "execute_result",
          "data": {
            "text/plain": [
              "    MPG  Cylinders  Displacement  Horsepower  Weight  Acceleration  \\\n",
              "0  18.0          8         307.0       130.0  3504.0          12.0   \n",
              "1  15.0          8         350.0       165.0  3693.0          11.5   \n",
              "2  18.0          8         318.0       150.0  3436.0          11.0   \n",
              "3  16.0          8         304.0       150.0  3433.0          12.0   \n",
              "4  17.0          8         302.0       140.0  3449.0          10.5   \n",
              "\n",
              "   Model Year  Origin  \n",
              "0          70       1  \n",
              "1          70       1  \n",
              "2          70       1  \n",
              "3          70       1  \n",
              "4          70       1  "
            ],
            "text/html": [
              "\n",
              "  <div id=\"df-9be96b8f-dc72-4b33-8789-cbeb9b337407\" class=\"colab-df-container\">\n",
              "    <div>\n",
              "<style scoped>\n",
              "    .dataframe tbody tr th:only-of-type {\n",
              "        vertical-align: middle;\n",
              "    }\n",
              "\n",
              "    .dataframe tbody tr th {\n",
              "        vertical-align: top;\n",
              "    }\n",
              "\n",
              "    .dataframe thead th {\n",
              "        text-align: right;\n",
              "    }\n",
              "</style>\n",
              "<table border=\"1\" class=\"dataframe\">\n",
              "  <thead>\n",
              "    <tr style=\"text-align: right;\">\n",
              "      <th></th>\n",
              "      <th>MPG</th>\n",
              "      <th>Cylinders</th>\n",
              "      <th>Displacement</th>\n",
              "      <th>Horsepower</th>\n",
              "      <th>Weight</th>\n",
              "      <th>Acceleration</th>\n",
              "      <th>Model Year</th>\n",
              "      <th>Origin</th>\n",
              "    </tr>\n",
              "  </thead>\n",
              "  <tbody>\n",
              "    <tr>\n",
              "      <th>0</th>\n",
              "      <td>18.0</td>\n",
              "      <td>8</td>\n",
              "      <td>307.0</td>\n",
              "      <td>130.0</td>\n",
              "      <td>3504.0</td>\n",
              "      <td>12.0</td>\n",
              "      <td>70</td>\n",
              "      <td>1</td>\n",
              "    </tr>\n",
              "    <tr>\n",
              "      <th>1</th>\n",
              "      <td>15.0</td>\n",
              "      <td>8</td>\n",
              "      <td>350.0</td>\n",
              "      <td>165.0</td>\n",
              "      <td>3693.0</td>\n",
              "      <td>11.5</td>\n",
              "      <td>70</td>\n",
              "      <td>1</td>\n",
              "    </tr>\n",
              "    <tr>\n",
              "      <th>2</th>\n",
              "      <td>18.0</td>\n",
              "      <td>8</td>\n",
              "      <td>318.0</td>\n",
              "      <td>150.0</td>\n",
              "      <td>3436.0</td>\n",
              "      <td>11.0</td>\n",
              "      <td>70</td>\n",
              "      <td>1</td>\n",
              "    </tr>\n",
              "    <tr>\n",
              "      <th>3</th>\n",
              "      <td>16.0</td>\n",
              "      <td>8</td>\n",
              "      <td>304.0</td>\n",
              "      <td>150.0</td>\n",
              "      <td>3433.0</td>\n",
              "      <td>12.0</td>\n",
              "      <td>70</td>\n",
              "      <td>1</td>\n",
              "    </tr>\n",
              "    <tr>\n",
              "      <th>4</th>\n",
              "      <td>17.0</td>\n",
              "      <td>8</td>\n",
              "      <td>302.0</td>\n",
              "      <td>140.0</td>\n",
              "      <td>3449.0</td>\n",
              "      <td>10.5</td>\n",
              "      <td>70</td>\n",
              "      <td>1</td>\n",
              "    </tr>\n",
              "  </tbody>\n",
              "</table>\n",
              "</div>\n",
              "    <div class=\"colab-df-buttons\">\n",
              "\n",
              "  <div class=\"colab-df-container\">\n",
              "    <button class=\"colab-df-convert\" onclick=\"convertToInteractive('df-9be96b8f-dc72-4b33-8789-cbeb9b337407')\"\n",
              "            title=\"Convert this dataframe to an interactive table.\"\n",
              "            style=\"display:none;\">\n",
              "\n",
              "  <svg xmlns=\"http://www.w3.org/2000/svg\" height=\"24px\" viewBox=\"0 -960 960 960\">\n",
              "    <path d=\"M120-120v-720h720v720H120Zm60-500h600v-160H180v160Zm220 220h160v-160H400v160Zm0 220h160v-160H400v160ZM180-400h160v-160H180v160Zm440 0h160v-160H620v160ZM180-180h160v-160H180v160Zm440 0h160v-160H620v160Z\"/>\n",
              "  </svg>\n",
              "    </button>\n",
              "\n",
              "  <style>\n",
              "    .colab-df-container {\n",
              "      display:flex;\n",
              "      gap: 12px;\n",
              "    }\n",
              "\n",
              "    .colab-df-convert {\n",
              "      background-color: #E8F0FE;\n",
              "      border: none;\n",
              "      border-radius: 50%;\n",
              "      cursor: pointer;\n",
              "      display: none;\n",
              "      fill: #1967D2;\n",
              "      height: 32px;\n",
              "      padding: 0 0 0 0;\n",
              "      width: 32px;\n",
              "    }\n",
              "\n",
              "    .colab-df-convert:hover {\n",
              "      background-color: #E2EBFA;\n",
              "      box-shadow: 0px 1px 2px rgba(60, 64, 67, 0.3), 0px 1px 3px 1px rgba(60, 64, 67, 0.15);\n",
              "      fill: #174EA6;\n",
              "    }\n",
              "\n",
              "    .colab-df-buttons div {\n",
              "      margin-bottom: 4px;\n",
              "    }\n",
              "\n",
              "    [theme=dark] .colab-df-convert {\n",
              "      background-color: #3B4455;\n",
              "      fill: #D2E3FC;\n",
              "    }\n",
              "\n",
              "    [theme=dark] .colab-df-convert:hover {\n",
              "      background-color: #434B5C;\n",
              "      box-shadow: 0px 1px 3px 1px rgba(0, 0, 0, 0.15);\n",
              "      filter: drop-shadow(0px 1px 2px rgba(0, 0, 0, 0.3));\n",
              "      fill: #FFFFFF;\n",
              "    }\n",
              "  </style>\n",
              "\n",
              "    <script>\n",
              "      const buttonEl =\n",
              "        document.querySelector('#df-9be96b8f-dc72-4b33-8789-cbeb9b337407 button.colab-df-convert');\n",
              "      buttonEl.style.display =\n",
              "        google.colab.kernel.accessAllowed ? 'block' : 'none';\n",
              "\n",
              "      async function convertToInteractive(key) {\n",
              "        const element = document.querySelector('#df-9be96b8f-dc72-4b33-8789-cbeb9b337407');\n",
              "        const dataTable =\n",
              "          await google.colab.kernel.invokeFunction('convertToInteractive',\n",
              "                                                    [key], {});\n",
              "        if (!dataTable) return;\n",
              "\n",
              "        const docLinkHtml = 'Like what you see? Visit the ' +\n",
              "          '<a target=\"_blank\" href=https://colab.research.google.com/notebooks/data_table.ipynb>data table notebook</a>'\n",
              "          + ' to learn more about interactive tables.';\n",
              "        element.innerHTML = '';\n",
              "        dataTable['output_type'] = 'display_data';\n",
              "        await google.colab.output.renderOutput(dataTable, element);\n",
              "        const docLink = document.createElement('div');\n",
              "        docLink.innerHTML = docLinkHtml;\n",
              "        element.appendChild(docLink);\n",
              "      }\n",
              "    </script>\n",
              "  </div>\n",
              "\n",
              "\n",
              "<div id=\"df-7be2e87f-8f2b-4354-bc63-883e6add4203\">\n",
              "  <button class=\"colab-df-quickchart\" onclick=\"quickchart('df-7be2e87f-8f2b-4354-bc63-883e6add4203')\"\n",
              "            title=\"Suggest charts\"\n",
              "            style=\"display:none;\">\n",
              "\n",
              "<svg xmlns=\"http://www.w3.org/2000/svg\" height=\"24px\"viewBox=\"0 0 24 24\"\n",
              "     width=\"24px\">\n",
              "    <g>\n",
              "        <path d=\"M19 3H5c-1.1 0-2 .9-2 2v14c0 1.1.9 2 2 2h14c1.1 0 2-.9 2-2V5c0-1.1-.9-2-2-2zM9 17H7v-7h2v7zm4 0h-2V7h2v10zm4 0h-2v-4h2v4z\"/>\n",
              "    </g>\n",
              "</svg>\n",
              "  </button>\n",
              "\n",
              "<style>\n",
              "  .colab-df-quickchart {\n",
              "      --bg-color: #E8F0FE;\n",
              "      --fill-color: #1967D2;\n",
              "      --hover-bg-color: #E2EBFA;\n",
              "      --hover-fill-color: #174EA6;\n",
              "      --disabled-fill-color: #AAA;\n",
              "      --disabled-bg-color: #DDD;\n",
              "  }\n",
              "\n",
              "  [theme=dark] .colab-df-quickchart {\n",
              "      --bg-color: #3B4455;\n",
              "      --fill-color: #D2E3FC;\n",
              "      --hover-bg-color: #434B5C;\n",
              "      --hover-fill-color: #FFFFFF;\n",
              "      --disabled-bg-color: #3B4455;\n",
              "      --disabled-fill-color: #666;\n",
              "  }\n",
              "\n",
              "  .colab-df-quickchart {\n",
              "    background-color: var(--bg-color);\n",
              "    border: none;\n",
              "    border-radius: 50%;\n",
              "    cursor: pointer;\n",
              "    display: none;\n",
              "    fill: var(--fill-color);\n",
              "    height: 32px;\n",
              "    padding: 0;\n",
              "    width: 32px;\n",
              "  }\n",
              "\n",
              "  .colab-df-quickchart:hover {\n",
              "    background-color: var(--hover-bg-color);\n",
              "    box-shadow: 0 1px 2px rgba(60, 64, 67, 0.3), 0 1px 3px 1px rgba(60, 64, 67, 0.15);\n",
              "    fill: var(--button-hover-fill-color);\n",
              "  }\n",
              "\n",
              "  .colab-df-quickchart-complete:disabled,\n",
              "  .colab-df-quickchart-complete:disabled:hover {\n",
              "    background-color: var(--disabled-bg-color);\n",
              "    fill: var(--disabled-fill-color);\n",
              "    box-shadow: none;\n",
              "  }\n",
              "\n",
              "  .colab-df-spinner {\n",
              "    border: 2px solid var(--fill-color);\n",
              "    border-color: transparent;\n",
              "    border-bottom-color: var(--fill-color);\n",
              "    animation:\n",
              "      spin 1s steps(1) infinite;\n",
              "  }\n",
              "\n",
              "  @keyframes spin {\n",
              "    0% {\n",
              "      border-color: transparent;\n",
              "      border-bottom-color: var(--fill-color);\n",
              "      border-left-color: var(--fill-color);\n",
              "    }\n",
              "    20% {\n",
              "      border-color: transparent;\n",
              "      border-left-color: var(--fill-color);\n",
              "      border-top-color: var(--fill-color);\n",
              "    }\n",
              "    30% {\n",
              "      border-color: transparent;\n",
              "      border-left-color: var(--fill-color);\n",
              "      border-top-color: var(--fill-color);\n",
              "      border-right-color: var(--fill-color);\n",
              "    }\n",
              "    40% {\n",
              "      border-color: transparent;\n",
              "      border-right-color: var(--fill-color);\n",
              "      border-top-color: var(--fill-color);\n",
              "    }\n",
              "    60% {\n",
              "      border-color: transparent;\n",
              "      border-right-color: var(--fill-color);\n",
              "    }\n",
              "    80% {\n",
              "      border-color: transparent;\n",
              "      border-right-color: var(--fill-color);\n",
              "      border-bottom-color: var(--fill-color);\n",
              "    }\n",
              "    90% {\n",
              "      border-color: transparent;\n",
              "      border-bottom-color: var(--fill-color);\n",
              "    }\n",
              "  }\n",
              "</style>\n",
              "\n",
              "  <script>\n",
              "    async function quickchart(key) {\n",
              "      const quickchartButtonEl =\n",
              "        document.querySelector('#' + key + ' button');\n",
              "      quickchartButtonEl.disabled = true;  // To prevent multiple clicks.\n",
              "      quickchartButtonEl.classList.add('colab-df-spinner');\n",
              "      try {\n",
              "        const charts = await google.colab.kernel.invokeFunction(\n",
              "            'suggestCharts', [key], {});\n",
              "      } catch (error) {\n",
              "        console.error('Error during call to suggestCharts:', error);\n",
              "      }\n",
              "      quickchartButtonEl.classList.remove('colab-df-spinner');\n",
              "      quickchartButtonEl.classList.add('colab-df-quickchart-complete');\n",
              "    }\n",
              "    (() => {\n",
              "      let quickchartButtonEl =\n",
              "        document.querySelector('#df-7be2e87f-8f2b-4354-bc63-883e6add4203 button');\n",
              "      quickchartButtonEl.style.display =\n",
              "        google.colab.kernel.accessAllowed ? 'block' : 'none';\n",
              "    })();\n",
              "  </script>\n",
              "</div>\n",
              "\n",
              "    </div>\n",
              "  </div>\n"
            ],
            "application/vnd.google.colaboratory.intrinsic+json": {
              "type": "dataframe",
              "variable_name": "df",
              "summary": "{\n  \"name\": \"df\",\n  \"rows\": 392,\n  \"fields\": [\n    {\n      \"column\": \"MPG\",\n      \"properties\": {\n        \"dtype\": \"number\",\n        \"std\": 7.8050074865717995,\n        \"min\": 9.0,\n        \"max\": 46.6,\n        \"num_unique_values\": 127,\n        \"samples\": [\n          17.5,\n          35.1,\n          28.8\n        ],\n        \"semantic_type\": \"\",\n        \"description\": \"\"\n      }\n    },\n    {\n      \"column\": \"Cylinders\",\n      \"properties\": {\n        \"dtype\": \"number\",\n        \"std\": 1,\n        \"min\": 3,\n        \"max\": 8,\n        \"num_unique_values\": 5,\n        \"samples\": [\n          4,\n          5,\n          6\n        ],\n        \"semantic_type\": \"\",\n        \"description\": \"\"\n      }\n    },\n    {\n      \"column\": \"Displacement\",\n      \"properties\": {\n        \"dtype\": \"number\",\n        \"std\": 104.64400390890466,\n        \"min\": 68.0,\n        \"max\": 455.0,\n        \"num_unique_values\": 81,\n        \"samples\": [\n          116.0,\n          307.0,\n          360.0\n        ],\n        \"semantic_type\": \"\",\n        \"description\": \"\"\n      }\n    },\n    {\n      \"column\": \"Horsepower\",\n      \"properties\": {\n        \"dtype\": \"number\",\n        \"std\": 38.49115993282849,\n        \"min\": 46.0,\n        \"max\": 230.0,\n        \"num_unique_values\": 93,\n        \"samples\": [\n          92.0,\n          100.0,\n          52.0\n        ],\n        \"semantic_type\": \"\",\n        \"description\": \"\"\n      }\n    },\n    {\n      \"column\": \"Weight\",\n      \"properties\": {\n        \"dtype\": \"number\",\n        \"std\": 849.4025600429492,\n        \"min\": 1613.0,\n        \"max\": 5140.0,\n        \"num_unique_values\": 346,\n        \"samples\": [\n          2472.0,\n          3221.0,\n          2700.0\n        ],\n        \"semantic_type\": \"\",\n        \"description\": \"\"\n      }\n    },\n    {\n      \"column\": \"Acceleration\",\n      \"properties\": {\n        \"dtype\": \"number\",\n        \"std\": 2.758864119188082,\n        \"min\": 8.0,\n        \"max\": 24.8,\n        \"num_unique_values\": 95,\n        \"samples\": [\n          14.7,\n          18.0,\n          14.3\n        ],\n        \"semantic_type\": \"\",\n        \"description\": \"\"\n      }\n    },\n    {\n      \"column\": \"Model Year\",\n      \"properties\": {\n        \"dtype\": \"number\",\n        \"std\": 3,\n        \"min\": 70,\n        \"max\": 82,\n        \"num_unique_values\": 13,\n        \"samples\": [\n          81,\n          79,\n          70\n        ],\n        \"semantic_type\": \"\",\n        \"description\": \"\"\n      }\n    },\n    {\n      \"column\": \"Origin\",\n      \"properties\": {\n        \"dtype\": \"number\",\n        \"std\": 0,\n        \"min\": 1,\n        \"max\": 3,\n        \"num_unique_values\": 3,\n        \"samples\": [\n          1,\n          3,\n          2\n        ],\n        \"semantic_type\": \"\",\n        \"description\": \"\"\n      }\n    }\n  ]\n}"
            }
          },
          "metadata": {},
          "execution_count": 3
        }
      ]
    },
    {
      "cell_type": "code",
      "source": [
        "df_train, df_test = train_test_split(df, train_size=0.8, random_state=42)\n",
        "print(df_train.head(5))"
      ],
      "metadata": {
        "colab": {
          "base_uri": "https://localhost:8080/"
        },
        "id": "DaJ-VToJ3-CZ",
        "outputId": "172fbb47-23f4-4047-91ea-7f2cd0cfd4d2"
      },
      "execution_count": 4,
      "outputs": [
        {
          "output_type": "stream",
          "name": "stdout",
          "text": [
            "      MPG  Cylinders  Displacement  Horsepower  Weight  Acceleration  \\\n",
            "258  18.6          6         225.0       110.0  3620.0          18.7   \n",
            "182  25.0          4         140.0        92.0  2572.0          14.9   \n",
            "172  18.0          6         171.0        97.0  2984.0          14.5   \n",
            "63   15.0          8         318.0       150.0  4135.0          13.5   \n",
            "340  39.0          4          86.0        64.0  1875.0          16.4   \n",
            "\n",
            "     Model Year  Origin  \n",
            "258          78       1  \n",
            "182          76       1  \n",
            "172          75       1  \n",
            "63           72       1  \n",
            "340          81       1  \n"
          ]
        }
      ]
    },
    {
      "cell_type": "code",
      "source": [
        "train_stats = df_train.describe().transpose()\n",
        "print(train_stats)"
      ],
      "metadata": {
        "colab": {
          "base_uri": "https://localhost:8080/"
        },
        "id": "POQeazwi4GoP",
        "outputId": "9e8a9822-5d38-434f-d8b5-4da24daff489"
      },
      "execution_count": 5,
      "outputs": [
        {
          "output_type": "stream",
          "name": "stdout",
          "text": [
            "              count         mean         std     min     25%     50%     75%  \\\n",
            "MPG           313.0    23.599361    7.956255     9.0    17.0    23.0    30.0   \n",
            "Cylinders     313.0     5.482428    1.700446     3.0     4.0     4.0     8.0   \n",
            "Displacement  313.0   195.517572  103.766567    70.0   105.0   151.0   302.0   \n",
            "Horsepower    313.0   104.594249   38.283669    46.0    76.0    95.0   129.0   \n",
            "Weight        313.0  2986.124601  841.133957  1613.0  2234.0  2855.0  3645.0   \n",
            "Acceleration  313.0    15.544089    2.817864     8.0    13.5    15.5    17.3   \n",
            "Model Year    313.0    76.207668    3.630136    70.0    73.0    76.0    79.0   \n",
            "Origin        313.0     1.555911    0.807163     1.0     1.0     1.0     2.0   \n",
            "\n",
            "                 max  \n",
            "MPG             46.6  \n",
            "Cylinders        8.0  \n",
            "Displacement   455.0  \n",
            "Horsepower     230.0  \n",
            "Weight        5140.0  \n",
            "Acceleration    24.8  \n",
            "Model Year      82.0  \n",
            "Origin           3.0  \n"
          ]
        }
      ]
    },
    {
      "cell_type": "code",
      "source": [
        "numeric_column_names = ['Cylinders', 'Displacement', 'Horsepower', 'Weight', 'Acceleration']\n",
        "\n",
        "df_train_norm, df_test_norm = df_train.copy(), df_test.copy()\n",
        "for col_name in numeric_column_names:\n",
        "  mean = train_stats.loc[col_name, 'mean']\n",
        "  std = train_stats.loc[col_name, 'std']\n",
        "  df_train_norm.loc[:, col_name] = (df_train_norm.loc[:, col_name] - mean)/std\n",
        "  df_test_norm.loc[:, col_name] = (df_test_norm.loc[:, col_name] - mean)/std\n",
        "\n",
        "print(df_train_norm.head(5))"
      ],
      "metadata": {
        "colab": {
          "base_uri": "https://localhost:8080/"
        },
        "id": "sm2atlyF4KXA",
        "outputId": "8949bf61-90a4-4eba-c784-2b015b9c9cb9"
      },
      "execution_count": 6,
      "outputs": [
        {
          "output_type": "stream",
          "name": "stdout",
          "text": [
            "      MPG  Cylinders  Displacement  Horsepower    Weight  Acceleration  \\\n",
            "258  18.6   0.304374      0.284123    0.141203  0.753596      1.119966   \n",
            "182  25.0  -0.871788     -0.535024   -0.328972 -0.492341     -0.228574   \n",
            "172  18.0   0.304374     -0.236276   -0.198368 -0.002526     -0.370525   \n",
            "63   15.0   1.480536      1.180365    1.186034  1.365865     -0.725404   \n",
            "340  39.0  -0.871788     -1.055423   -1.060354 -1.320984      0.303744   \n",
            "\n",
            "     Model Year  Origin  \n",
            "258          78       1  \n",
            "182          76       1  \n",
            "172          75       1  \n",
            "63           72       1  \n",
            "340          81       1  \n"
          ]
        }
      ]
    },
    {
      "cell_type": "code",
      "source": [
        "boundaries = torch.tensor([73, 76, 79])\n",
        "v = torch.tensor(df_train_norm['Model Year'].values)\n",
        "df_train_norm['Model Year Bucketed'] = torch.bucketize(\n",
        "    v, boundaries, right=True)\n",
        "v = torch.tensor(df_test_norm['Model Year'].values)\n",
        "df_test_norm['Model Year Bucketed'] = torch.bucketize(\n",
        "    v, boundaries, right=True)\n",
        "numeric_column_names.append('Model Year Bucketed')\n",
        "\n",
        "print(df_train_norm.head(5))"
      ],
      "metadata": {
        "colab": {
          "base_uri": "https://localhost:8080/"
        },
        "id": "sUjMd74zHDEd",
        "outputId": "9f8491f5-3bcc-428b-e9b2-d02bd410bf19"
      },
      "execution_count": 7,
      "outputs": [
        {
          "output_type": "stream",
          "name": "stdout",
          "text": [
            "      MPG  Cylinders  Displacement  Horsepower    Weight  Acceleration  \\\n",
            "258  18.6   0.304374      0.284123    0.141203  0.753596      1.119966   \n",
            "182  25.0  -0.871788     -0.535024   -0.328972 -0.492341     -0.228574   \n",
            "172  18.0   0.304374     -0.236276   -0.198368 -0.002526     -0.370525   \n",
            "63   15.0   1.480536      1.180365    1.186034  1.365865     -0.725404   \n",
            "340  39.0  -0.871788     -1.055423   -1.060354 -1.320984      0.303744   \n",
            "\n",
            "     Model Year  Origin  Model Year Bucketed  \n",
            "258          78       1                    2  \n",
            "182          76       1                    2  \n",
            "172          75       1                    1  \n",
            "63           72       1                    0  \n",
            "340          81       1                    3  \n"
          ]
        }
      ]
    },
    {
      "cell_type": "code",
      "source": [
        "total_origin = len(set(df_train_norm['Origin']))\n",
        "origin_encoded = one_hot(torch.from_numpy(df_train_norm['Origin'].values) % total_origin)\n",
        "\n",
        "x_train_numeric = torch.tensor(df_train_norm[numeric_column_names].values)\n",
        "x_train = torch.cat([x_train_numeric, origin_encoded], 1).float()\n",
        "\n",
        "origin_encoded = one_hot(torch.from_numpy(df_test_norm['Origin'].values) % total_origin)\n",
        "\n",
        "x_test_numeric = torch.tensor(df_test_norm[numeric_column_names].values)\n",
        "x_test = torch.cat([x_test_numeric, origin_encoded], 1).float()"
      ],
      "metadata": {
        "id": "KnmviB8W4U7E"
      },
      "execution_count": 8,
      "outputs": []
    },
    {
      "cell_type": "code",
      "source": [
        "y_train = torch.tensor(df_train_norm['MPG'].values).float()\n",
        "y_test = torch.tensor(df_test_norm['MPG'].values).float()"
      ],
      "metadata": {
        "id": "ZMk4jeYj4fOe"
      },
      "execution_count": 9,
      "outputs": []
    },
    {
      "cell_type": "code",
      "source": [
        "train_dataset = TensorDataset(x_train, y_train)\n",
        "batch_size = 8\n",
        "torch.manual_seed(1)\n",
        "train_dataloader = DataLoader(train_dataset, batch_size, shuffle=True)"
      ],
      "metadata": {
        "id": "5MVOjH564ht5"
      },
      "execution_count": 10,
      "outputs": []
    },
    {
      "cell_type": "code",
      "source": [
        "hidden_units = [8, 4]\n",
        "input_size = x_train.shape[1]\n",
        "all_layers = []\n",
        "for hidden_unit in hidden_units:\n",
        "  layer = nn.Linear(input_size, hidden_unit)\n",
        "  all_layers.append(layer)\n",
        "  all_layers.append(nn.ReLU())\n",
        "  input_size = hidden_unit\n",
        "\n",
        "all_layers.append(nn.Linear(hidden_units[-1], 1))\n",
        "model = nn.Sequential(*all_layers)\n",
        "print(model)"
      ],
      "metadata": {
        "colab": {
          "base_uri": "https://localhost:8080/"
        },
        "id": "mf_yDmu04rcE",
        "outputId": "b0adc00f-40c5-435e-fb2a-1c5732eb9a8c"
      },
      "execution_count": 11,
      "outputs": [
        {
          "output_type": "stream",
          "name": "stdout",
          "text": [
            "Sequential(\n",
            "  (0): Linear(in_features=9, out_features=8, bias=True)\n",
            "  (1): ReLU()\n",
            "  (2): Linear(in_features=8, out_features=4, bias=True)\n",
            "  (3): ReLU()\n",
            "  (4): Linear(in_features=4, out_features=1, bias=True)\n",
            ")\n"
          ]
        }
      ]
    },
    {
      "cell_type": "code",
      "source": [
        "loss_fn = nn.MSELoss()\n",
        "optimizer = torch.optim.SGD(model.parameters(), lr=0.001)"
      ],
      "metadata": {
        "id": "zYsZHtWh4vUJ"
      },
      "execution_count": 12,
      "outputs": []
    },
    {
      "cell_type": "code",
      "source": [
        "torch.manual_seed(1)\n",
        "num_epochs = 200\n",
        "log_epochs = 20\n",
        "\n",
        "loss_hist_train = [0] * num_epochs\n",
        "\n",
        "for epoch in range(num_epochs):\n",
        "  for x_batch, y_batch in train_dataloader:\n",
        "    pred = model(x_batch)[:, 0]\n",
        "    loss = loss_fn(pred, y_batch)\n",
        "    loss.backward()\n",
        "    optimizer.step()\n",
        "    optimizer.zero_grad()\n",
        "    loss_hist_train[epoch] += loss.item()\n",
        "\n",
        "  if epoch % log_epochs == 0:\n",
        "    print(f'Epoch {epoch} Loss ' f'{loss_hist_train[epoch]/len(train_dataloader):.4f}')\n",
        "\n",
        "loss_hist_train = [loss / len(train_dataloader) for loss in loss_hist_train]"
      ],
      "metadata": {
        "colab": {
          "base_uri": "https://localhost:8080/"
        },
        "id": "eAVFESIK4yfx",
        "outputId": "e3866230-b2f0-41a9-fe2c-d5f00749a324"
      },
      "execution_count": 13,
      "outputs": [
        {
          "metadata": {
            "tags": null
          },
          "name": "stdout",
          "output_type": "stream",
          "text": [
            "Epoch 0 Loss 539.9970\n",
            "Epoch 20 Loss 8.5615\n",
            "Epoch 40 Loss 9.5788\n",
            "Epoch 60 Loss 8.4521\n",
            "Epoch 80 Loss 9.2728\n",
            "Epoch 100 Loss 10.8870\n",
            "Epoch 120 Loss 7.9455\n",
            "Epoch 140 Loss 8.7864\n",
            "Epoch 160 Loss 8.1935\n",
            "Epoch 180 Loss 8.2191\n"
          ]
        }
      ]
    },
    {
      "cell_type": "code",
      "source": [
        "fig1 = plt.gcf()\n",
        "\n",
        "plt.plot(loss_hist_train)\n",
        "plt.grid()\n",
        "plt.title('Model loss')\n",
        "plt.ylabel('Loss')\n",
        "plt.xlabel('Epochs')\n",
        "plt.legend(['Train Loss'])\n",
        "plt.show()"
      ],
      "metadata": {
        "colab": {
          "base_uri": "https://localhost:8080/",
          "height": 472
        },
        "id": "9tskzN9BAYOH",
        "outputId": "c08e5894-fb6a-486e-9fc8-626820c42133"
      },
      "execution_count": 14,
      "outputs": [
        {
          "data": {
            "image/png": "[encoded data removed]",
            "text/plain": [
              "<Figure size 640x480 with 1 Axes>"
            ]
          },
          "metadata": {},
          "output_type": "display_data"
        }
      ]
    },
    {
      "cell_type": "code",
      "source": [
        "with torch.no_grad():\n",
        "  pred - model(x_test.float())[:, 0]\n",
        "  loss = loss_fn(pred, y_test)\n",
        "  print(f'Test MSE: {loss.item():.4f}')\n",
        "  print(f'Test MAE: {nn.L1Loss()(pred, y_test).item():.4f}')"
      ],
      "metadata": {
        "colab": {
          "base_uri": "https://localhost:8080/"
        },
        "id": "7AvoocM3419_",
        "outputId": "f7e74656-c66c-4569-ae88-e1e8ef4e49cb"
      },
      "execution_count": 15,
      "outputs": [
        {
          "metadata": {
            "tags": null
          },
          "name": "stdout",
          "output_type": "stream",
          "text": [
            "Test MSE: 55.3239\n",
            "Test MAE: 5.9275\n"
          ]
        },
        {
          "metadata": {
            "tags": null
          },
          "name": "stderr",
          "output_type": "stream",
          "text": [
            "/usr/local/lib/python3.10/dist-packages/torch/nn/modules/loss.py:535: UserWarning: Using a target size (torch.Size([79])) that is different to the input size (torch.Size([1])). This will likely lead to incorrect results due to broadcasting. Please ensure they have the same size.\n",
            "  return F.mse_loss(input, target, reduction=self.reduction)\n",
            "/usr/local/lib/python3.10/dist-packages/torch/nn/modules/loss.py:101: UserWarning: Using a target size (torch.Size([79])) that is different to the input size (torch.Size([1])). This will likely lead to incorrect results due to broadcasting. Please ensure they have the same size.\n",
            "  return F.l1_loss(input, target, reduction=self.reduction)\n"
          ]
        }
      ]
    },
    {
      "cell_type": "code",
      "source": [],
      "metadata": {
        "id": "BdYF7Ja99Ej4"
      },
      "execution_count": null,
      "outputs": []
    }
  ]
}